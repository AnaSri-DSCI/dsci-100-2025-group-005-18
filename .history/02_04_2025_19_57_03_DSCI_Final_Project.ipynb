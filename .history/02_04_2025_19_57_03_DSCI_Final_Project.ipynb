{
 "cells": [
  {
   "cell_type": "code",
   "execution_count": null,
   "id": "80c2aeb0-3634-4513-b50e-099ba7ed9c2b",
   "metadata": {},
   "outputs": [],
   "source": [
    "library(tidyverse)\n",
    "library(repr)\n",
    "library(tidymodels)\n",
    "library(cowplot)\n",
    "options(repr.matrix.max.rows = 6)"
   ]
  },
  {
   "cell_type": "code",
   "execution_count": null,
   "id": "3b2505f5-edb3-4c88-81c1-f612770f2f43",
   "metadata": {},
   "outputs": [],
   "source": [
    "players <- read_csv(\"players.csv\")\n",
    "players\n",
    "\n",
    "sample_estimates_100 <- players |>\n",
    "    rep_sample_n(size = 100, reps = 196) |>\n",
    "    summarize(max_played_hrs = max(played_hours))\n",
    "sample_estimates_100\n",
    "\n",
    "sampling_distribution_100 <- sample_estimates_100 |>\n",
    "    ggplot(aes(x = max_played_hrs)) +\n",
    "    geom_histogram(binwidth = 1) +\n",
    "    labs(x = \"Hours Played\", title = \"Sampling Distribution (n=100)\") +\n",
    "    xlim(c(25, 230))\n",
    "sampling_distribution_100\n",
    "\n",
    "players_max <- players |>\n",
    "    group_by(experience) |>\n",
    "    summarise(max_played_hrs = max(played_hours, na.rm = TRUE),\n",
    "             max_player_age = max(Age, na.rm = TRUE))\n",
    "players_max"
   ]
  },
  {
   "cell_type": "code",
   "execution_count": null,
   "id": "5c291735-17f2-4e48-a23d-acbb3bd3c9a2",
   "metadata": {},
   "outputs": [],
   "source": [
    "players <- read_csv(\"players.csv\")\n",
    "players\n",
    "\n",
    "sample_estimates_100 <- players |>\n",
    "    rep_sample_n(size = 70, reps = 196) |>\n",
    "    summarize(max_played_hrs = max(played_hours))\n",
    "sample_estimates_100\n",
    "\n",
    "sampling_distribution_100 <- sample_estimates_100 |>\n",
    "    ggplot(aes(x = max_played_hrs)) +\n",
    "    geom_point() +\n",
    "    labs(x = \"Hours Played\", title = \"Sampling Distribution (n=100)\")\n",
    "sampling_distribution_100\n",
    "\n",
    "players_max <- players_50 |>\n",
    "    group_by(experience) |>\n",
    "    summarise(max_played_hrs = max(played_hours, na.rm = TRUE),\n",
    "             max_player_age = max(Age, na.rm = TRUE))\n",
    "players_max\n",
    "\n",
    "answer2 <- marathon_50 |>\n",
    "    ggplot(aes(x = max, y = time_hrs)) +\n",
    "    geom_point() +\n",
    "    labs(x = \"Max Distance\", y = \"Time Taken (hrs)\")"
   ]
  },
  {
   "cell_type": "code",
   "execution_count": null,
   "id": "1da2c07a-a16b-4fcf-ba4b-e4e3872dee0a",
   "metadata": {},
   "outputs": [],
   "source": []
  }
 ],
 "metadata": {
  "kernelspec": {
   "display_name": "R",
   "language": "R",
   "name": "ir"
  },
  "language_info": {
   "codemirror_mode": "r",
   "file_extension": ".r",
   "mimetype": "text/x-r-source",
   "name": "R",
   "pygments_lexer": "r",
   "version": "4.3.3"
  }
 },
 "nbformat": 4,
 "nbformat_minor": 5
}
