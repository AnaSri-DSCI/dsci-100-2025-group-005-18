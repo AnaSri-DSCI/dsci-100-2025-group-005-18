{
 "cells": [
  {
   "cell_type": "code",
   "execution_count": null,
   "id": "80c2aeb0-3634-4513-b50e-099ba7ed9c2b",
   "metadata": {},
   "outputs": [],
   "source": [
    "library(tidyverse)\n",
    "library(repr)\n",
    "library(tidymodels)\n",
    "library(cowplot)\n",
    "options(repr.matrix.max.rows = 6)"
   ]
  },
  {
   "cell_type": "code",
   "execution_count": null,
   "id": "5c291735-17f2-4e48-a23d-acbb3bd3c9a2",
   "metadata": {},
   "outputs": [],
   "source": [
    "players <- read_csv(\"players.csv\")\n",
    "players\n",
    "\n",
    "players_select <- players |>\n",
    "    filter(played_hours != 0.0) |>\n",
    "    select(experience, played_hours, Age)\n",
    "players_select\n",
    "\n",
    "players_split <- initial_split(players_select, prop = 0.75, strata = played_hours)\n",
    "players_training <- training(players_split)\n",
    "players_training\n",
    "players_testing <- testing(players_split)\n",
    "players_testing"
   ]
  },
  {
   "cell_type": "code",
   "execution_count": null,
   "id": "1da2c07a-a16b-4fcf-ba4b-e4e3872dee0a",
   "metadata": {},
   "outputs": [],
   "source": [
    "players_spec <- nearest_neighbor(weight_func = \"rectangular\", neighbors = tune()) |> \n",
    "       set_engine(\"kknn\") |>\n",
    "       set_mode(\"regression\") \n",
    "\n",
    "players_recipe <- recipe(played_hours ~ ., data = players_training) |>\n",
    "       step_scale(all_predictors()) |>\n",
    "       step_center(all_predictors())\n",
    "\n",
    "players_vfold <- vfold_cv(players_training, v = 5, strata = played_hours)\n",
    "\n",
    "players_workflow <- workflow() |> \n",
    "    add_recipe(players_recipe) |> \n",
    "    add_model(players_spec)\n",
    "players_workflow"
   ]
  },
  {
   "cell_type": "code",
   "execution_count": null,
   "id": "5a9104e7-4728-4797-9775-7cc2c2457276",
   "metadata": {},
   "outputs": [],
   "source": [
    "gridvals <- tibble(neighbors = seq(from = 1, to = 50, by = 10))\n",
    "\n",
    "players_results <- workflow() |> \n",
    "    add_recipe(players_recipe) |> \n",
    "    add_model(players_spec) |>\n",
    "    tune_grid(object = players_workflow, resamples = players_vfold, grid = gridvals) |>\n",
    "    collect_metrics()\n",
    "players_results"
   ]
  },
  {
   "cell_type": "code",
   "execution_count": null,
   "id": "fc918295-eded-4f75-b5ea-b2657f4674e4",
   "metadata": {},
   "outputs": [],
   "source": []
  }
 ],
 "metadata": {
  "kernelspec": {
   "display_name": "R",
   "language": "R",
   "name": "ir"
  },
  "language_info": {
   "codemirror_mode": "r",
   "file_extension": ".r",
   "mimetype": "text/x-r-source",
   "name": "R",
   "pygments_lexer": "r",
   "version": "4.3.3"
  }
 },
 "nbformat": 4,
 "nbformat_minor": 5
}
