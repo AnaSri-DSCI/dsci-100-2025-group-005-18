{
 "cells": [
  {
   "cell_type": "code",
   "execution_count": null,
   "id": "80c2aeb0-3634-4513-b50e-099ba7ed9c2b",
   "metadata": {},
   "outputs": [],
   "source": [
    "library(tidyverse)\n",
    "library(repr)\n",
    "library(tidymodels)\n",
    "library(cowplot)\n",
    "options(repr.matrix.max.rows = 6)"
   ]
  },
  {
   "cell_type": "code",
   "execution_count": null,
   "id": "3b2505f5-edb3-4c88-81c1-f612770f2f43",
   "metadata": {},
   "outputs": [],
   "source": []
  },
  {
   "cell_type": "code",
   "execution_count": null,
   "id": "5c291735-17f2-4e48-a23d-acbb3bd3c9a2",
   "metadata": {},
   "outputs": [],
   "source": [
    "players <- read_csv(\"players.csv\")\n",
    "players\n",
    "\n",
    "players_select <- players |>\n",
    "    filter(played_hours !== 0.0\") |>\n",
    "    select(experience, played_hours, Age)\n",
    "players_select\n",
    "\n",
    "players_max <- players_select |>\n",
    "    group_by(experience, Age) |>\n",
    "    summarise(max_played_hrs = max(played_hours, na.rm = TRUE))\n",
    "players_max\n",
    "\n",
    "players_max_plot <- players_max |>\n",
    "    ggplot(aes(x = Age, y = max_played_hrs)) +\n",
    "    geom_point() +\n",
    "    labs(x = \"Age\", y = \"Hours Played\")\n",
    "players_max_plot"
   ]
  },
  {
   "cell_type": "code",
   "execution_count": null,
   "id": "1da2c07a-a16b-4fcf-ba4b-e4e3872dee0a",
   "metadata": {},
   "outputs": [],
   "source": []
  },
  {
   "cell_type": "code",
   "execution_count": null,
   "id": "5a9104e7-4728-4797-9775-7cc2c2457276",
   "metadata": {},
   "outputs": [],
   "source": []
  }
 ],
 "metadata": {
  "kernelspec": {
   "display_name": "R",
   "language": "R",
   "name": "ir"
  },
  "language_info": {
   "codemirror_mode": "r",
   "file_extension": ".r",
   "mimetype": "text/x-r-source",
   "name": "R",
   "pygments_lexer": "r",
   "version": "4.3.3"
  }
 },
 "nbformat": 4,
 "nbformat_minor": 5
}
