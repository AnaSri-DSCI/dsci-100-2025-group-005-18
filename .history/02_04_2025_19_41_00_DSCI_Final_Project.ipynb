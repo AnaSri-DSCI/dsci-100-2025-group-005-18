{
 "cells": [
  {
   "cell_type": "code",
   "execution_count": null,
   "id": "80c2aeb0-3634-4513-b50e-099ba7ed9c2b",
   "metadata": {},
   "outputs": [],
   "source": [
    "library(tidyverse)\n",
    "library(repr)\n",
    "library(tidymodels)\n",
    "library(cowplot)\n",
    "options(repr.matrix.max.rows = 6)"
   ]
  },
  {
   "cell_type": "code",
   "execution_count": null,
   "id": "3b2505f5-edb3-4c88-81c1-f612770f2f43",
   "metadata": {},
   "outputs": [],
   "source": [
    "players <- read_csv(\"players.csv\")\n",
    "players\n",
    "\n",
    "sample_estimates <- players |>\n",
    "    rep_sample_n(size = 50, reps = 196) |>\n",
    "    summarize(max_played_hrs = max(played_hours))\n",
    "sample_estimates\n",
    "\n",
    "sampling_distribution_20 <- sample_estimates |>\n",
    "    ggplot(aes(x = mean_age)) +\n",
    "    geom_histogram(binwidth = 1) +\n",
    "    labs(x = \"Age of Canadian Seniors\", title = \"Sampling Distribution (n=20)\") +\n",
    "    xlim(c(65, 95))\n",
    "sampling_distribution_20\n",
    "\n",
    "players_max <- players |>\n",
    "    group_by(experience) |>\n",
    "    summarise(max_played_hrs = max(played_hours, na.rm = TRUE),\n",
    "             max_player_age = max(Age, na.rm = TRUE))\n",
    "players_max"
   ]
  },
  {
   "cell_type": "code",
   "execution_count": null,
   "id": "5c291735-17f2-4e48-a23d-acbb3bd3c9a2",
   "metadata": {},
   "outputs": [],
   "source": []
  }
 ],
 "metadata": {
  "kernelspec": {
   "display_name": "R",
   "language": "R",
   "name": "ir"
  },
  "language_info": {
   "codemirror_mode": "r",
   "file_extension": ".r",
   "mimetype": "text/x-r-source",
   "name": "R",
   "pygments_lexer": "r",
   "version": "4.3.3"
  }
 },
 "nbformat": 4,
 "nbformat_minor": 5
}
